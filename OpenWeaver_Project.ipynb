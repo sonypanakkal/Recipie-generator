{
  "nbformat": 4,
  "nbformat_minor": 0,
  "metadata": {
    "colab": {
      "provenance": [],
      "authorship_tag": "ABX9TyPQz1dlx1ruucSgUXwcyPpH",
      "include_colab_link": true
    },
    "kernelspec": {
      "name": "python3",
      "display_name": "Python 3"
    },
    "language_info": {
      "name": "python"
    }
  },
  "cells": [
    {
      "cell_type": "markdown",
      "metadata": {
        "id": "view-in-github",
        "colab_type": "text"
      },
      "source": [
        "<a href=\"https://colab.research.google.com/github/sonypanakkal/Recipie-generator/blob/main/OpenWeaver_Project.ipynb\" target=\"_parent\"><img src=\"https://colab.research.google.com/assets/colab-badge.svg\" alt=\"Open In Colab\"/></a>"
      ]
    },
    {
      "cell_type": "code",
      "source": [
        "pip install gradio"
      ],
      "metadata": {
        "id": "IqcVIKfiOX6X"
      },
      "execution_count": null,
      "outputs": []
    },
    {
      "cell_type": "code",
      "source": [
        "pip install openai"
      ],
      "metadata": {
        "id": "koXspszzOXy-"
      },
      "execution_count": null,
      "outputs": []
    },
    {
      "cell_type": "code",
      "source": [
        "import openai\n",
        "import gradio as gr\n",
        "\n",
        "openai.api_key = \"Your api key\"\n",
        "\n",
        "class RecipeGenerator:\n",
        "    def __init__(self):\n",
        "        self.ingredients = [\"chicken\", \"beef\", \"fish\", \"pasta\", \"rice\", \"potatoes\", \"vegetables\"]\n",
        "        self.cuisines = [\"Italian\", \"Mexican\", \"Indian\", \"Chinese\", \"Thai\"]\n",
        "        self.techniques = [\"grilled\", \"baked\", \"roasted\", \"stir-fried\", \"steamed\"]\n",
        "\n",
        "    def generate_recipe(self, cuisine, ingredient, technique):\n",
        "        # Generate recipe using GPT-3 model\n",
        "        prompt = f\"Generate a recipe for {cuisine} {ingredient} {technique}.\"\n",
        "        response = openai.Completion.create(\n",
        "            engine=\"text-davinci-003\",\n",
        "            prompt=prompt,\n",
        "            max_tokens=100,\n",
        "            n=1,\n",
        "            stop=None,\n",
        "            temperature=0.7\n",
        "        )\n",
        "        recipe = response.choices[0].text.strip()\n",
        "\n",
        "        return recipe\n",
        "\n",
        "recipe_generator = RecipeGenerator()\n",
        "\n",
        "def generate_recipe(cuisine, ingredient, technique):\n",
        "    recipe = recipe_generator.generate_recipe(cuisine, ingredient, technique)\n",
        "    return recipe\n",
        "\n",
        "# Define the input and output interfaces using Gradio\n",
        "inputs = [\n",
        "    gr.inputs.Dropdown(choices=recipe_generator.cuisines, label=\"Cuisine\"),\n",
        "    gr.inputs.Dropdown(choices=recipe_generator.ingredients, label=\"Main Ingredient\"),\n",
        "    gr.inputs.Dropdown(choices=recipe_generator.techniques, label=\"Technique\")\n",
        "]\n",
        "output = gr.outputs.Textbox(label=\"Recipe\")\n",
        "\n",
        "# Create the Gradio interface\n",
        "gr.Interface(fn=generate_recipe, inputs=inputs, outputs=output, title=\"Recipe Generator\", description=\"Generate a recipe with smart customizations.\").launch()\n"
      ],
      "metadata": {
        "id": "zeZS6p-nNw88"
      },
      "execution_count": null,
      "outputs": []
    }
  ]
}